{
  "nbformat": 4,
  "nbformat_minor": 0,
  "metadata": {
    "colab": {
      "name": "sudoku_solver.ipynb",
      "provenance": [],
      "toc_visible": true,
      "authorship_tag": "ABX9TyM/1MSe2Qjhfsqubn/vNp+C",
      "include_colab_link": true
    },
    "kernelspec": {
      "name": "python3",
      "display_name": "Python 3"
    }
  },
  "cells": [
    {
      "cell_type": "markdown",
      "metadata": {
        "id": "view-in-github",
        "colab_type": "text"
      },
      "source": [
        "<a href=\"https://colab.research.google.com/github/Callum-pb/sudoku/blob/master/sudoku_solver.ipynb\" target=\"_parent\"><img src=\"https://colab.research.google.com/assets/colab-badge.svg\" alt=\"Open In Colab\"/></a>"
      ]
    },
    {
      "cell_type": "markdown",
      "metadata": {
        "id": "jMQoXcq-2Or6",
        "colab_type": "text"
      },
      "source": [
        "# Sudoku Solver\n",
        "Basic sudoku solver using backtracking algorithm. Will eventually be used as the backend for a playable game, and potentially paired with an image recognition app to solve physically printed Sudoku puzzles."
      ]
    },
    {
      "cell_type": "code",
      "metadata": {
        "id": "2Ww9Kz1D2Jyi",
        "colab_type": "code",
        "colab": {}
      },
      "source": [
        "import numpy as np"
      ],
      "execution_count": null,
      "outputs": []
    },
    {
      "cell_type": "code",
      "metadata": {
        "id": "quasgNtA32Eu",
        "colab_type": "code",
        "colab": {}
      },
      "source": [
        "grid = [[0,2,0,0,0,4,3,0,0],\n",
        "        [9,0,0,0,2,0,0,0,8],\n",
        "        [0,0,0,6,0,9,0,5,0],\n",
        "        [0,0,0,0,0,0,0,0,1],\n",
        "        [0,7,2,5,0,3,6,8,0],\n",
        "        [6,0,0,0,0,0,0,0,0],\n",
        "        [0,8,0,2,0,5,0,0,0],\n",
        "        [1,0,0,0,9,0,0,0,3],\n",
        "        [0,0,9,8,0,0,0,6,0]]"
      ],
      "execution_count": null,
      "outputs": []
    },
    {
      "cell_type": "code",
      "metadata": {
        "id": "-je4-QSt5Mf_",
        "colab_type": "code",
        "colab": {
          "base_uri": "https://localhost:8080/",
          "height": 176
        },
        "outputId": "7b638636-fd22-4980-ea45-2bb6e49784ca"
      },
      "source": [
        "print(np.matrix(grid))"
      ],
      "execution_count": null,
      "outputs": [
        {
          "output_type": "stream",
          "text": [
            "[[0 2 0 0 0 4 3 0 0]\n",
            " [9 0 0 0 2 0 0 0 8]\n",
            " [0 0 0 6 0 9 0 5 0]\n",
            " [0 0 0 0 0 0 0 0 1]\n",
            " [0 7 2 5 0 3 6 8 0]\n",
            " [6 0 0 0 0 0 0 0 0]\n",
            " [0 8 0 2 0 5 0 0 0]\n",
            " [1 0 0 0 9 0 0 0 3]\n",
            " [0 0 9 8 0 0 0 6 0]]\n"
          ],
          "name": "stdout"
        }
      ]
    },
    {
      "cell_type": "code",
      "metadata": {
        "id": "2N_NBHlJ2uZi",
        "colab_type": "code",
        "colab": {}
      },
      "source": [
        "#Check input is a valid\n",
        "def valid(gr,r,c,n):\n",
        "  #Check row\n",
        "  for i in range(9):\n",
        "    if gr[r][i] == n:\n",
        "      return False\n",
        "  #Check column\n",
        "  for i in range(9):\n",
        "    if gr[i][c] == n:\n",
        "      return False\n",
        "  #Check 3x3 square\n",
        "  x0 = 3 * (c//3)\n",
        "  y0 = 3 * (r//3)\n",
        "  for i in range(3):\n",
        "    for j in range(3):\n",
        "      if grid[y0+i][x0+j] == n:\n",
        "        return False\n",
        "  return True"
      ],
      "execution_count": null,
      "outputs": []
    },
    {
      "cell_type": "code",
      "metadata": {
        "id": "QFlfxmCc7Nkl",
        "colab_type": "code",
        "colab": {}
      },
      "source": [
        "#Solve grid passed in\n",
        "def solve(gr):\n",
        "  for y in range(9):\n",
        "    for x in range(9):\n",
        "      if gr[y][x] == 0:\n",
        "        for n in range(1,10):\n",
        "          if valid(gr,y,x,n):\n",
        "            gr[y][x] = n\n",
        "            solve(gr)\n",
        "            grid[y][x] = 0\n",
        "        return\n",
        "  print(np.matrix(gr))   "
      ],
      "execution_count": null,
      "outputs": []
    },
    {
      "cell_type": "code",
      "metadata": {
        "id": "HUCn1vwg99e9",
        "colab_type": "code",
        "colab": {
          "base_uri": "https://localhost:8080/",
          "height": 176
        },
        "outputId": "acb96a17-6676-4aac-94c8-236d32d7c6fb"
      },
      "source": [
        "solve(grid)"
      ],
      "execution_count": null,
      "outputs": [
        {
          "output_type": "stream",
          "text": [
            "[[8 2 7 1 5 4 3 9 6]\n",
            " [9 6 5 3 2 7 1 4 8]\n",
            " [3 4 1 6 8 9 7 5 2]\n",
            " [5 9 3 4 6 8 2 7 1]\n",
            " [4 7 2 5 1 3 6 8 9]\n",
            " [6 1 8 9 7 2 4 3 5]\n",
            " [7 8 6 2 3 5 9 1 4]\n",
            " [1 5 4 7 9 6 8 2 3]\n",
            " [2 3 9 8 4 1 5 6 7]]\n"
          ],
          "name": "stdout"
        }
      ]
    },
    {
      "cell_type": "markdown",
      "metadata": {
        "id": "L5UZrjdNAPMn",
        "colab_type": "text"
      },
      "source": [
        "# Image Processing\n",
        "Import image of sudoku grid. Parse it to 2D array for later."
      ]
    },
    {
      "cell_type": "code",
      "metadata": {
        "id": "R-ljEI6F-mTW",
        "colab_type": "code",
        "colab": {}
      },
      "source": [
        "!sudo apt install tesseract-ocr\n",
        "!pip install pytesseract"
      ],
      "execution_count": null,
      "outputs": []
    },
    {
      "cell_type": "code",
      "metadata": {
        "id": "O2rKEvQaESTJ",
        "colab_type": "code",
        "colab": {}
      },
      "source": [
        "import cv2 as cv\n",
        "from google.colab.patches import cv2_imshow # for image display\n",
        "import pytesseract # OCR\n",
        "from skimage import io #reading from url"
      ],
      "execution_count": null,
      "outputs": []
    },
    {
      "cell_type": "code",
      "metadata": {
        "id": "Jpd1LU-5FA0U",
        "colab_type": "code",
        "colab": {}
      },
      "source": [
        "img = cv.imread('sudoku_unsolved.jpg')\n",
        "img = cv.cvtColor(img,cv.COLOR_BGR2GRAY)\n",
        "cv2_imshow(img)"
      ],
      "execution_count": null,
      "outputs": []
    },
    {
      "cell_type": "code",
      "metadata": {
        "id": "z0LenMPjPiP7",
        "colab_type": "code",
        "colab": {}
      },
      "source": [
        "th_b = cv.threshold(img,127,255,cv.THRESH_BINARY)"
      ],
      "execution_count": null,
      "outputs": []
    },
    {
      "cell_type": "code",
      "metadata": {
        "id": "XcY3uqJmT0OJ",
        "colab_type": "code",
        "colab": {
          "base_uri": "https://localhost:8080/",
          "height": 292
        },
        "outputId": "c99352b9-4abc-4a70-a41b-27a5ab221fbb"
      },
      "source": [
        "cv2_imshow(th_b)"
      ],
      "execution_count": null,
      "outputs": [
        {
          "output_type": "error",
          "ename": "AttributeError",
          "evalue": "ignored",
          "traceback": [
            "\u001b[0;31m---------------------------------------------------------------------------\u001b[0m",
            "\u001b[0;31mAttributeError\u001b[0m                            Traceback (most recent call last)",
            "\u001b[0;32m<ipython-input-104-3b996904e48c>\u001b[0m in \u001b[0;36m<module>\u001b[0;34m()\u001b[0m\n\u001b[0;32m----> 1\u001b[0;31m \u001b[0mcv2_imshow\u001b[0m\u001b[0;34m(\u001b[0m\u001b[0mth_b\u001b[0m\u001b[0;34m)\u001b[0m\u001b[0;34m\u001b[0m\u001b[0;34m\u001b[0m\u001b[0m\n\u001b[0m",
            "\u001b[0;32m/usr/local/lib/python3.6/dist-packages/google/colab/patches/__init__.py\u001b[0m in \u001b[0;36mcv2_imshow\u001b[0;34m(a)\u001b[0m\n\u001b[1;32m     20\u001b[0m       \u001b[0mimage\u001b[0m\u001b[0;34m.\u001b[0m\u001b[0;34m\u001b[0m\u001b[0;34m\u001b[0m\u001b[0m\n\u001b[1;32m     21\u001b[0m   \"\"\"\n\u001b[0;32m---> 22\u001b[0;31m   \u001b[0ma\u001b[0m \u001b[0;34m=\u001b[0m \u001b[0ma\u001b[0m\u001b[0;34m.\u001b[0m\u001b[0mclip\u001b[0m\u001b[0;34m(\u001b[0m\u001b[0;36m0\u001b[0m\u001b[0;34m,\u001b[0m \u001b[0;36m255\u001b[0m\u001b[0;34m)\u001b[0m\u001b[0;34m.\u001b[0m\u001b[0mastype\u001b[0m\u001b[0;34m(\u001b[0m\u001b[0;34m'uint8'\u001b[0m\u001b[0;34m)\u001b[0m\u001b[0;34m\u001b[0m\u001b[0;34m\u001b[0m\u001b[0m\n\u001b[0m\u001b[1;32m     23\u001b[0m   \u001b[0;31m# cv2 stores colors as BGR; convert to RGB\u001b[0m\u001b[0;34m\u001b[0m\u001b[0;34m\u001b[0m\u001b[0;34m\u001b[0m\u001b[0m\n\u001b[1;32m     24\u001b[0m   \u001b[0;32mif\u001b[0m \u001b[0ma\u001b[0m\u001b[0;34m.\u001b[0m\u001b[0mndim\u001b[0m \u001b[0;34m==\u001b[0m \u001b[0;36m3\u001b[0m\u001b[0;34m:\u001b[0m\u001b[0;34m\u001b[0m\u001b[0;34m\u001b[0m\u001b[0m\n",
            "\u001b[0;31mAttributeError\u001b[0m: 'tuple' object has no attribute 'clip'"
          ]
        }
      ]
    },
    {
      "cell_type": "code",
      "metadata": {
        "id": "TrjuJfAVT498",
        "colab_type": "code",
        "colab": {}
      },
      "source": [
        ""
      ],
      "execution_count": null,
      "outputs": []
    }
  ]
}